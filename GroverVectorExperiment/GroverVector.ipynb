{
 "cells": [
  {
   "cell_type": "markdown",
   "metadata": {},
   "source": [
    "# Introduction to Grover Vector Experiment. \n",
    "This is a primitive experiment as aforementioned in the README.md to use Grover's Algorithm for Vector Similarity Search. These series of experiments \n",
    "attempt to speed up Gaia's Vector Search process. Though these were mostly for fun, prototype versions of using Grover's Algorithm with Top-K scoring did make it into the first versions of Gaia though as of v1.0.4 for the sake of an decently operational demo to forgo the custom Top-K scoring system."
   ]
  },
  {
   "cell_type": "markdown",
   "metadata": {},
   "source": [
    "# Replication \n",
    "To replicate, we must first install Qiskit (Tests were done on Quantum Hardware (IOQ)). Bless the people at AWS who let Free Tier members have 1 Hour of Free Circuit Simulator Time."
   ]
  },
  {
   "cell_type": "code",
   "execution_count": 1,
   "metadata": {},
   "outputs": [
    {
     "name": "stdout",
     "output_type": "stream",
     "text": [
      "^C\n"
     ]
    },
    {
     "name": "stderr",
     "output_type": "stream",
     "text": [
      "DEPRECATION: torchsde 0.2.5 has a non-standard dependency specifier numpy>=1.19.*; python_version >= \"3.7\". pip 24.0 will enforce this behaviour change. A possible replacement is to upgrade to a newer version of torchsde or contact the author to suggest that they release a version with a conforming dependency specifiers. Discussion can be found at https://github.com/pypa/pip/issues/12063\n"
     ]
    },
    {
     "name": "stdout",
     "output_type": "stream",
     "text": [
      "Collecting qiskit\n",
      "  Downloading qiskit-0.45.1-py3-none-any.whl.metadata (12 kB)\n",
      "Requirement already satisfied: scikit-learn in c:\\users\\ty chermsirivatana\\appdata\\local\\packages\\pythonsoftwarefoundation.python.3.11_qbz5n2kfra8p0\\localcache\\local-packages\\python311\\site-packages (1.2.2)\n",
      "Requirement already satisfied: numpy in c:\\users\\ty chermsirivatana\\appdata\\local\\packages\\pythonsoftwarefoundation.python.3.11_qbz5n2kfra8p0\\localcache\\local-packages\\python311\\site-packages (1.24.3)\n",
      "Collecting qiskit-terra==0.45.1 (from qiskit)\n",
      "  Downloading qiskit_terra-0.45.1-cp38-abi3-win_amd64.whl.metadata (12 kB)\n",
      "Collecting rustworkx>=0.13.0 (from qiskit-terra==0.45.1->qiskit)\n",
      "  Downloading rustworkx-0.13.2-cp311-cp311-win_amd64.whl.metadata (10 kB)\n",
      "Collecting ply>=3.10 (from qiskit-terra==0.45.1->qiskit)\n",
      "  Downloading ply-3.11-py2.py3-none-any.whl (49 kB)\n",
      "     ---------------------------------------- 0.0/49.6 kB ? eta -:--:--\n",
      "     ---------------------------------------- 49.6/49.6 kB 2.6 MB/s eta 0:00:00\n",
      "Requirement already satisfied: psutil>=5 in c:\\users\\ty chermsirivatana\\appdata\\local\\packages\\pythonsoftwarefoundation.python.3.11_qbz5n2kfra8p0\\localcache\\local-packages\\python311\\site-packages (from qiskit-terra==0.45.1->qiskit) (5.9.5)\n",
      "Requirement already satisfied: scipy>=1.5 in c:\\users\\ty chermsirivatana\\appdata\\local\\packages\\pythonsoftwarefoundation.python.3.11_qbz5n2kfra8p0\\localcache\\local-packages\\python311\\site-packages (from qiskit-terra==0.45.1->qiskit) (1.11.2)\n",
      "Requirement already satisfied: sympy>=1.3 in c:\\users\\ty chermsirivatana\\appdata\\local\\packages\\pythonsoftwarefoundation.python.3.11_qbz5n2kfra8p0\\localcache\\local-packages\\python311\\site-packages (from qiskit-terra==0.45.1->qiskit) (1.12)\n",
      "Collecting dill>=0.3 (from qiskit-terra==0.45.1->qiskit)\n",
      "  Downloading dill-0.3.7-py3-none-any.whl.metadata (9.9 kB)\n",
      "Requirement already satisfied: python-dateutil>=2.8.0 in c:\\users\\ty chermsirivatana\\appdata\\local\\packages\\pythonsoftwarefoundation.python.3.11_qbz5n2kfra8p0\\localcache\\local-packages\\python311\\site-packages (from qiskit-terra==0.45.1->qiskit) (2.8.2)\n",
      "Collecting stevedore>=3.0.0 (from qiskit-terra==0.45.1->qiskit)\n",
      "  Downloading stevedore-5.1.0-py3-none-any.whl.metadata (2.2 kB)\n",
      "Requirement already satisfied: joblib>=1.1.1 in c:\\users\\ty chermsirivatana\\appdata\\local\\packages\\pythonsoftwarefoundation.python.3.11_qbz5n2kfra8p0\\localcache\\local-packages\\python311\\site-packages (from scikit-learn) (1.3.1)\n",
      "Requirement already satisfied: threadpoolctl>=2.0.0 in c:\\users\\ty chermsirivatana\\appdata\\local\\packages\\pythonsoftwarefoundation.python.3.11_qbz5n2kfra8p0\\localcache\\local-packages\\python311\\site-packages (from scikit-learn) (3.2.0)\n",
      "Requirement already satisfied: six>=1.5 in c:\\users\\ty chermsirivatana\\appdata\\local\\packages\\pythonsoftwarefoundation.python.3.11_qbz5n2kfra8p0\\localcache\\local-packages\\python311\\site-packages (from python-dateutil>=2.8.0->qiskit-terra==0.45.1->qiskit) (1.16.0)\n",
      "Collecting pbr!=2.1.0,>=2.0.0 (from stevedore>=3.0.0->qiskit-terra==0.45.1->qiskit)\n",
      "  Downloading pbr-6.0.0-py2.py3-none-any.whl.metadata (1.3 kB)\n",
      "Requirement already satisfied: mpmath>=0.19 in c:\\users\\ty chermsirivatana\\appdata\\local\\packages\\pythonsoftwarefoundation.python.3.11_qbz5n2kfra8p0\\localcache\\local-packages\\python311\\site-packages (from sympy>=1.3->qiskit-terra==0.45.1->qiskit) (1.3.0)\n",
      "Downloading qiskit-0.45.1-py3-none-any.whl (9.6 kB)\n",
      "Downloading qiskit_terra-0.45.1-cp38-abi3-win_amd64.whl (5.1 MB)\n",
      "   ---------------------------------------- 0.0/5.1 MB ? eta -:--:--\n",
      "   -- ------------------------------------- 0.3/5.1 MB 7.0 MB/s eta 0:00:01\n",
      "   ------ --------------------------------- 0.9/5.1 MB 9.2 MB/s eta 0:00:01\n",
      "   ------------ --------------------------- 1.6/5.1 MB 11.2 MB/s eta 0:00:01\n",
      "   -------------------- ------------------- 2.6/5.1 MB 14.1 MB/s eta 0:00:01\n",
      "   ------------------------------- -------- 4.0/5.1 MB 17.2 MB/s eta 0:00:01\n",
      "   ---------------------------------------  5.1/5.1 MB 19.3 MB/s eta 0:00:01\n",
      "   ---------------------------------------- 5.1/5.1 MB 18.3 MB/s eta 0:00:00\n",
      "Downloading dill-0.3.7-py3-none-any.whl (115 kB)\n",
      "   ---------------------------------------- 0.0/115.3 kB ? eta -:--:--\n",
      "   ---------------------------------------- 115.3/115.3 kB 7.0 MB/s eta 0:00:00\n",
      "Downloading rustworkx-0.13.2-cp311-cp311-win_amd64.whl (1.4 MB)\n",
      "   ---------------------------------------- 0.0/1.4 MB ? eta -:--:--\n",
      "   ---------------------------------------- 1.4/1.4 MB 45.7 MB/s eta 0:00:00\n",
      "Downloading stevedore-5.1.0-py3-none-any.whl (49 kB)\n",
      "   ---------------------------------------- 0.0/49.6 kB ? eta -:--:--\n",
      "   ---------------------------------------- 49.6/49.6 kB ? eta 0:00:00\n",
      "Downloading pbr-6.0.0-py2.py3-none-any.whl (107 kB)\n",
      "   ---------------------------------------- 0.0/107.5 kB ? eta -:--:--\n",
      "   ---------------------------------------- 107.5/107.5 kB 6.5 MB/s eta 0:00:00\n",
      "Installing collected packages: ply, rustworkx, pbr, dill, stevedore, qiskit-terra, qiskit\n",
      "Successfully installed dill-0.3.7 pbr-6.0.0 ply-3.11 qiskit-0.45.1 qiskit-terra-0.45.1 rustworkx-0.13.2 stevedore-5.1.0\n"
     ]
    }
   ],
   "source": [
    "!pip3 install qiskit qiskit-aer scikit-learn numpy "
   ]
  },
  {
   "cell_type": "markdown",
   "metadata": {},
   "source": [
    "Import all neccessary libraries as such. This imports qiskit, numpy and sk-learn"
   ]
  },
  {
   "cell_type": "code",
   "execution_count": 5,
   "metadata": {},
   "outputs": [
    {
     "name": "stderr",
     "output_type": "stream",
     "text": [
      "C:\\Users\\Ty Chermsirivatana\\AppData\\Local\\Temp\\ipykernel_1152\\4228560633.py:2: DeprecationWarning: ``qiskit.algorithms`` has been migrated to an independent package: https://github.com/qiskit-community/qiskit-algorithms. The ``qiskit.algorithms`` import path is deprecated as of qiskit-terra 0.25.0 and will be removed no earlier than 3 months after the release date. Please run ``pip install qiskit_algorithms`` and use ``import qiskit_algorithms`` instead.\n",
      "  from qiskit.algorithms import AmplificationProblem, Grover\n"
     ]
    }
   ],
   "source": [
    "from qiskit import Aer, transpile, assemble\n",
    "from qiskit.algorithms import AmplificationProblem, Grover\n",
    "from qiskit.circuit.library import Diagonal\n",
    "import numpy as np\n",
    "from sklearn.feature_extraction.text import TfidfVectorizer"
   ]
  },
  {
   "cell_type": "markdown",
   "metadata": {},
   "source": [
    "Now, these functions below just convert Text to Vector Embeddings, Prepare the Quantum Oracle for Grover's Algorithm for Top K and Constructs the QC Circut for Simulation. In addition, it also adjusts vectors to prevent CircuitErrors if the number of Vectors aren't a power of 2."
   ]
  },
  {
   "cell_type": "code",
   "execution_count": 21,
   "metadata": {},
   "outputs": [],
   "source": [
    "# Step 1: Convert Text to Vector Embeddings\n",
    "def convert_texts_to_vectors(texts):\n",
    "    vectorizer = TfidfVectorizer()\n",
    "    X = vectorizer.fit_transform(texts)\n",
    "    return X.toarray()\n",
    "\n",
    "# Function to adjust the number of vectors to a power of 2\n",
    "def adjust_vectors_to_power_of_2(vectors):\n",
    "    next_power_of_2 = 2 ** np.ceil(np.log2(len(vectors)))\n",
    "    padding_length = int(next_power_of_2 - len(vectors))\n",
    "    if padding_length > 0:\n",
    "        padding = np.zeros((padding_length, vectors.shape[1]))\n",
    "        vectors = np.vstack([vectors, padding])\n",
    "    return vectors\n",
    "\n",
    "# Step 2: Prepare Oracle for Grover's Algorithm for Top-K Scoring\n",
    "def prepare_oracle_top_k(query_vector, vectors, k):\n",
    "    similarities = np.dot(vectors, query_vector)\n",
    "    top_k_indices = np.argsort(similarities)[-k:]\n",
    "    diag_elements = np.ones(len(vectors))\n",
    "    diag_elements[top_k_indices] = -1\n",
    "    oracle = Diagonal(diag_elements)\n",
    "    return oracle, top_k_indices\n",
    "\n",
    "#Step 3: Run Grover's Algorithm for Top-K Scoring\n",
    "def run_grovers_algorithm_top_k(query_vector, vectors, k):\n",
    "    oracle, top_k_indices = prepare_oracle_top_k(query_vector, vectors, k)\n",
    "    problem = AmplificationProblem(oracle, is_good_state=lambda x: x in top_k_indices)\n",
    "    grover = Grover()\n",
    "    backend = Aer.get_backend('qasm_simulator')\n",
    "    qc = grover.construct_circuit(problem, power=1)\n",
    "    qc.measure_all()\n",
    "    tqc = transpile(qc, backend)\n",
    "    qobj = assemble(tqc)\n",
    "    result = backend.run(qobj).result()\n",
    "    measurements = result.get_counts(qc)  # Retrieve counts for the specific circuit\n",
    "    most_frequent = max(measurements, key=measurements.get)\n",
    "    found_index = int(most_frequent, 2)\n",
    "    return found_index\n",
    "\n"
   ]
  },
  {
   "cell_type": "markdown",
   "metadata": {},
   "source": [
    "I've went ahead here and sent up some fake GreenQuest strings just to simulate real life queries. You can add as many as you realistically want. To do comparision, the first string of the list will be the test string to compare to other strings.\n",
    "\n",
    "I would like to also forewarn people who are running this code that you may get a circuit error depending on the number of vectors. Just ensure that the number of vectors is a power of 2. I've included a function to help default that, just something to note."
   ]
  },
  {
   "cell_type": "code",
   "execution_count": 3,
   "metadata": {},
   "outputs": [],
   "source": [
    "greenquest_text_strings = [\n",
    "    \"How can I earn points for recycling at home with GreenQuest?\",\n",
    "    \"GreenQuest tips for reducing energy consumption in the office\",\n",
    "    \"Sustainable transportation options supported by GreenQuest\",\n",
    "    \"GreenQuest community initiatives for local environmental impact\",\n",
    "    \"Using GreenQuest to track and improve my carbon footprint\",\n",
    "    \"GreenQuest partnerships with renewable energy providers\",\n",
    "    \"Eco-friendly product recommendations from GreenQuest\",\n",
    "    \"GreenQuest's role in promoting urban green spaces\",\n",
    "    \"Water conservation strategies with GreenQuest's guidance\",\n",
    "    \"Impact of GreenQuest on corporate sustainability practices\"\n",
    "]"
   ]
  },
  {
   "cell_type": "markdown",
   "metadata": {},
   "source": [
    "Now, this is the fun part. I've defined the code below to define the Top Vectors. The code below should vectorize everything and run Grover's algorithm for Top-K for scoring. Essentially, primitive Quantum Vector Searching using Top-K scoring. "
   ]
  },
  {
   "cell_type": "code",
   "execution_count": 22,
   "metadata": {},
   "outputs": [
    {
     "name": "stdout",
     "output_type": "stream",
     "text": [
      "Indices of the top K found vectors: [8, 5, 0]\n"
     ]
    },
    {
     "name": "stderr",
     "output_type": "stream",
     "text": [
      "C:\\Users\\Ty Chermsirivatana\\AppData\\Local\\Temp\\ipykernel_1152\\2180144110.py:35: DeprecationWarning: Using a qobj for run() is deprecated as of qiskit-aer 0.9.0 and will be removed no sooner than 3 months from that release date. Transpiled circuits should now be passed directly using `backend.run(circuits, **run_options).\n",
      "  result = backend.run(qobj).result()\n"
     ]
    }
   ],
   "source": [
    "# Convert texts to vector embeddings and adjust to power of 2\n",
    "vectors = convert_texts_to_vectors(greenquest_text_strings)\n",
    "vectors = adjust_vectors_to_power_of_2(vectors)\n",
    "\n",
    "# Choose a query vector (for example, the first vector)\n",
    "query_vector = vectors[0]\n",
    "\n",
    "# Define the number of top vectors to find (K)\n",
    "K = 3\n",
    "\n",
    "# Run Grover's Algorithm for Top-K Scoring\n",
    "top_k_results = []\n",
    "for _ in range(K):\n",
    "    found_index = run_grovers_algorithm_top_k(query_vector, vectors, K)\n",
    "    top_k_results.append(found_index)\n",
    "\n",
    "# Output the result\n",
    "print(\"Indices of the top K found vectors:\", top_k_results)"
   ]
  }
 ],
 "metadata": {
  "kernelspec": {
   "display_name": "Python 3",
   "language": "python",
   "name": "python3"
  },
  "language_info": {
   "codemirror_mode": {
    "name": "ipython",
    "version": 3
   },
   "file_extension": ".py",
   "mimetype": "text/x-python",
   "name": "python",
   "nbconvert_exporter": "python",
   "pygments_lexer": "ipython3",
   "version": "3.11.6"
  }
 },
 "nbformat": 4,
 "nbformat_minor": 2
}
